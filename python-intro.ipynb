{
  "cells": [
    {
      "cell_type": "markdown",
      "metadata": {
        "id": "view-in-github",
        "colab_type": "text"
      },
      "source": [
        "<a href=\"https://colab.research.google.com/github/meghavarshini/software_carpentry_python-intro/blob/main/python-intro.ipynb\" target=\"_parent\"><img src=\"https://colab.research.google.com/assets/colab-badge.svg\" alt=\"Open In Colab\"/></a>"
      ]
    },
    {
      "cell_type": "markdown",
      "source": [
        "# Intro to Python\n",
        "**bold text is pretty**\n",
        "\n",
        "This is my first jupyter+colab notebook.\n"
      ],
      "metadata": {
        "id": "2issaORV3qBD"
      }
    },
    {
      "cell_type": "code",
      "source": [
        "age = 33\n",
        "name = \"Megh\""
      ],
      "metadata": {
        "id": "yXO5jC2O4n9Z"
      },
      "execution_count": 18,
      "outputs": []
    },
    {
      "cell_type": "code",
      "source": [
        "print(name, \"is\", age, \"years old\", '.')"
      ],
      "metadata": {
        "id": "DOQzRCFj4R0P",
        "outputId": "b8e79ee8-8aa2-467d-a843-31332f40d98a",
        "colab": {
          "base_uri": "https://localhost:8080/"
        }
      },
      "execution_count": 3,
      "outputs": [
        {
          "output_type": "stream",
          "name": "stdout",
          "text": [
            "Megh is 33 years old .\n"
          ]
        }
      ]
    },
    {
      "cell_type": "code",
      "source": [
        "last_name = \"Krishnaswamy\"\n",
        "print(last_name)"
      ],
      "metadata": {
        "id": "8hNO9QME67ip",
        "outputId": "479d6371-86d8-43c1-f540-e0411a7e7322",
        "colab": {
          "base_uri": "https://localhost:8080/"
        }
      },
      "execution_count": 5,
      "outputs": [
        {
          "output_type": "stream",
          "name": "stdout",
          "text": [
            "Krishnaswamy\n"
          ]
        }
      ]
    },
    {
      "cell_type": "code",
      "source": [
        "print(name, \"will be\", age+10, \"in ten years.\")"
      ],
      "metadata": {
        "id": "0WLx5kGC7ood",
        "outputId": "c0ee8c65-a623-439d-9603-1b3299ddb615",
        "colab": {
          "base_uri": "https://localhost:8080/"
        }
      },
      "execution_count": 7,
      "outputs": [
        {
          "output_type": "stream",
          "name": "stdout",
          "text": [
            "Megh will be 43 in ten years.\n"
          ]
        }
      ]
    },
    {
      "cell_type": "code",
      "source": [
        "print(name[2])"
      ],
      "metadata": {
        "id": "zoomPPsp79xO",
        "outputId": "9b714890-0972-41ca-cfc7-73d3add5fada",
        "colab": {
          "base_uri": "https://localhost:8080/"
        }
      },
      "execution_count": 8,
      "outputs": [
        {
          "output_type": "stream",
          "name": "stdout",
          "text": [
            "g\n"
          ]
        }
      ]
    },
    {
      "cell_type": "code",
      "source": [
        "print(name[0])"
      ],
      "metadata": {
        "id": "-AJxE_oq8bAX",
        "outputId": "316901cc-5c97-4fe9-fb77-0753e644f12e",
        "colab": {
          "base_uri": "https://localhost:8080/"
        }
      },
      "execution_count": 9,
      "outputs": [
        {
          "output_type": "stream",
          "name": "stdout",
          "text": [
            "M\n"
          ]
        }
      ]
    },
    {
      "cell_type": "code",
      "source": [
        "name_substring = name[0:2]\n",
        "print(name_substring)"
      ],
      "metadata": {
        "id": "Ksr7zB1K8mt4",
        "outputId": "a8d5f951-44a0-4f33-d07f-e5fb4f50c81d",
        "colab": {
          "base_uri": "https://localhost:8080/"
        }
      },
      "execution_count": 10,
      "outputs": [
        {
          "output_type": "stream",
          "name": "stdout",
          "text": [
            "Me\n"
          ]
        }
      ]
    },
    {
      "cell_type": "code",
      "source": [
        "length_name = len(name)"
      ],
      "metadata": {
        "id": "re8sI1KU9YDP"
      },
      "execution_count": 12,
      "outputs": []
    },
    {
      "cell_type": "code",
      "source": [
        "name = \"Meghavarshini\""
      ],
      "metadata": {
        "id": "yfm_5CjR-AOf"
      },
      "execution_count": 16,
      "outputs": []
    },
    {
      "cell_type": "code",
      "source": [
        "print(name)"
      ],
      "metadata": {
        "id": "UcNXBWFC-Fwe",
        "outputId": "d15f8551-b859-4d10-963a-ea021ba9b240",
        "colab": {
          "base_uri": "https://localhost:8080/"
        }
      },
      "execution_count": 19,
      "outputs": [
        {
          "output_type": "stream",
          "name": "stdout",
          "text": [
            "Megh\n"
          ]
        }
      ]
    },
    {
      "cell_type": "code",
      "source": [
        "type(age)"
      ],
      "metadata": {
        "id": "YamhGptD-i6x"
      },
      "execution_count": 15,
      "outputs": []
    },
    {
      "cell_type": "code",
      "source": [
        "type(name)"
      ],
      "metadata": {
        "id": "vvdYsuqi-nDc"
      },
      "execution_count": null,
      "outputs": []
    },
    {
      "cell_type": "code",
      "source": [
        "new_age = \"50\"\n",
        "print(new_age + 15)"
      ],
      "metadata": {
        "id": "K3TK6T-s-x8u",
        "outputId": "1271c7d5-5787-4ca5-cc57-ace0095e099d",
        "colab": {
          "base_uri": "https://localhost:8080/",
          "height": 196
        }
      },
      "execution_count": 24,
      "outputs": [
        {
          "output_type": "error",
          "ename": "TypeError",
          "evalue": "can only concatenate str (not \"int\") to str",
          "traceback": [
            "\u001b[0;31m---------------------------------------------------------------------------\u001b[0m",
            "\u001b[0;31mTypeError\u001b[0m                                 Traceback (most recent call last)",
            "\u001b[0;32m<ipython-input-24-4231bcc86f6e>\u001b[0m in \u001b[0;36m<cell line: 0>\u001b[0;34m()\u001b[0m\n\u001b[1;32m      1\u001b[0m \u001b[0mnew_age\u001b[0m \u001b[0;34m=\u001b[0m \u001b[0;34m\"50\"\u001b[0m\u001b[0;34m\u001b[0m\u001b[0;34m\u001b[0m\u001b[0m\n\u001b[0;32m----> 2\u001b[0;31m \u001b[0mprint\u001b[0m\u001b[0;34m(\u001b[0m\u001b[0mnew_age\u001b[0m \u001b[0;34m+\u001b[0m \u001b[0;36m15\u001b[0m\u001b[0;34m)\u001b[0m\u001b[0;34m\u001b[0m\u001b[0;34m\u001b[0m\u001b[0m\n\u001b[0m",
            "\u001b[0;31mTypeError\u001b[0m: can only concatenate str (not \"int\") to str"
          ]
        }
      ]
    },
    {
      "cell_type": "code",
      "source": [
        "new_age = int(new_age)"
      ],
      "metadata": {
        "id": "D-ANJyHEBTVQ"
      },
      "execution_count": 26,
      "outputs": []
    },
    {
      "cell_type": "code",
      "source": [
        "new_age + 50"
      ],
      "metadata": {
        "id": "FnlBUvm7Blev",
        "outputId": "4b1c498d-fa19-487c-fcc3-b97938e89668",
        "colab": {
          "base_uri": "https://localhost:8080/"
        }
      },
      "execution_count": 27,
      "outputs": [
        {
          "output_type": "execute_result",
          "data": {
            "text/plain": [
              "100"
            ]
          },
          "metadata": {},
          "execution_count": 27
        }
      ]
    },
    {
      "cell_type": "code",
      "source": [
        "num = 5.0923"
      ],
      "metadata": {
        "id": "nhW2i1lNCA5a"
      },
      "execution_count": 28,
      "outputs": []
    },
    {
      "cell_type": "code",
      "source": [
        "type(num)"
      ],
      "metadata": {
        "id": "MYxAcqMVCXbq",
        "outputId": "cdcc3a56-1b39-49e6-9341-d173849d1cf2",
        "colab": {
          "base_uri": "https://localhost:8080/"
        }
      },
      "execution_count": 29,
      "outputs": [
        {
          "output_type": "execute_result",
          "data": {
            "text/plain": [
              "float"
            ]
          },
          "metadata": {},
          "execution_count": 29
        }
      ]
    },
    {
      "cell_type": "code",
      "source": [
        "num - 0.856473"
      ],
      "metadata": {
        "id": "x8n0jz2JCdRd",
        "outputId": "40991b5b-7bed-4315-a9d9-029e59d705fb",
        "colab": {
          "base_uri": "https://localhost:8080/"
        }
      },
      "execution_count": 30,
      "outputs": [
        {
          "output_type": "execute_result",
          "data": {
            "text/plain": [
              "4.235827"
            ]
          },
          "metadata": {},
          "execution_count": 30
        }
      ]
    },
    {
      "cell_type": "code",
      "source": [
        "num * 6"
      ],
      "metadata": {
        "id": "2rISYNmuCk03",
        "outputId": "f785154d-8ff6-4268-c8ad-b1d555249add",
        "colab": {
          "base_uri": "https://localhost:8080/"
        }
      },
      "execution_count": 31,
      "outputs": [
        {
          "output_type": "execute_result",
          "data": {
            "text/plain": [
              "30.5538"
            ]
          },
          "metadata": {},
          "execution_count": 31
        }
      ]
    },
    {
      "cell_type": "code",
      "source": [
        "num / 0.5"
      ],
      "metadata": {
        "id": "AXJZJxeFCrIi",
        "outputId": "d347561d-8d3c-462a-ccac-d28b01dbff0d",
        "colab": {
          "base_uri": "https://localhost:8080/"
        }
      },
      "execution_count": 33,
      "outputs": [
        {
          "output_type": "execute_result",
          "data": {
            "text/plain": [
              "10.1846"
            ]
          },
          "metadata": {},
          "execution_count": 33
        }
      ]
    },
    {
      "cell_type": "code",
      "source": [
        "integer = 4\n",
        "print(integer/3)"
      ],
      "metadata": {
        "id": "t0a_xTe1CxPs",
        "outputId": "73bf1893-d3ce-42d6-c551-fb76cb98594d",
        "colab": {
          "base_uri": "https://localhost:8080/"
        }
      },
      "execution_count": 34,
      "outputs": [
        {
          "output_type": "stream",
          "name": "stdout",
          "text": [
            "1.3333333333333333\n"
          ]
        }
      ]
    },
    {
      "cell_type": "code",
      "source": [
        "type(integer/3)"
      ],
      "metadata": {
        "id": "SboctX9gC_l7",
        "outputId": "82e01611-3461-49b5-f21b-ca5db12fe6b5",
        "colab": {
          "base_uri": "https://localhost:8080/"
        }
      },
      "execution_count": 35,
      "outputs": [
        {
          "output_type": "execute_result",
          "data": {
            "text/plain": [
              "float"
            ]
          },
          "metadata": {},
          "execution_count": 35
        }
      ]
    },
    {
      "cell_type": "code",
      "source": [
        "name + last_name"
      ],
      "metadata": {
        "id": "fI-wWP2NDHrT",
        "outputId": "55e4275e-efe6-48e4-b3ec-b6b0d7ef129d",
        "colab": {
          "base_uri": "https://localhost:8080/",
          "height": 36
        }
      },
      "execution_count": 38,
      "outputs": [
        {
          "output_type": "execute_result",
          "data": {
            "text/plain": [
              "'MeghKrishnaswamy'"
            ],
            "application/vnd.google.colaboratory.intrinsic+json": {
              "type": "string"
            }
          },
          "metadata": {},
          "execution_count": 38
        }
      ]
    },
    {
      "cell_type": "code",
      "source": [
        "name * 2"
      ],
      "metadata": {
        "id": "Q7RkMfJ5DuZr",
        "outputId": "84e116c3-d594-4586-d499-4b4bc16faa7c",
        "colab": {
          "base_uri": "https://localhost:8080/",
          "height": 36
        }
      },
      "execution_count": 39,
      "outputs": [
        {
          "output_type": "execute_result",
          "data": {
            "text/plain": [
              "'MeghMegh'"
            ],
            "application/vnd.google.colaboratory.intrinsic+json": {
              "type": "string"
            }
          },
          "metadata": {},
          "execution_count": 39
        }
      ]
    },
    {
      "cell_type": "code",
      "source": [
        "name + \".\""
      ],
      "metadata": {
        "id": "5somzetrD3Uv",
        "outputId": "7bcba3a5-51c7-4464-e321-8264285af7ed",
        "colab": {
          "base_uri": "https://localhost:8080/",
          "height": 36
        }
      },
      "execution_count": 40,
      "outputs": [
        {
          "output_type": "execute_result",
          "data": {
            "text/plain": [
              "'Megh.'"
            ],
            "application/vnd.google.colaboratory.intrinsic+json": {
              "type": "string"
            }
          },
          "metadata": {},
          "execution_count": 40
        }
      ]
    },
    {
      "cell_type": "code",
      "source": [
        "print(name , \".\")"
      ],
      "metadata": {
        "id": "pL8fmIgQEL6O",
        "outputId": "24f90b59-ca34-4e57-c884-c6522d7df778",
        "colab": {
          "base_uri": "https://localhost:8080/"
        }
      },
      "execution_count": 42,
      "outputs": [
        {
          "output_type": "stream",
          "name": "stdout",
          "text": [
            "Megh .\n"
          ]
        }
      ]
    },
    {
      "cell_type": "code",
      "source": [],
      "metadata": {
        "id": "zaIu0vAjEM_n"
      },
      "execution_count": null,
      "outputs": []
    }
  ],
  "metadata": {
    "colab": {
      "provenance": [],
      "include_colab_link": true
    },
    "language_info": {
      "name": "python"
    },
    "kernelspec": {
      "name": "python3",
      "display_name": "Python 3"
    }
  },
  "nbformat": 4,
  "nbformat_minor": 0
}